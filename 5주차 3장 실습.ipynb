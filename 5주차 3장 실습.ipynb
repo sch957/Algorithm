{
 "cells": [
  {
   "cell_type": "markdown",
   "id": "f37029d9-bcb7-4d06-9e74-8a67e85e9a5d",
   "metadata": {},
   "source": [
    "5주차 실습문제"
   ]
  },
  {
   "cell_type": "code",
   "execution_count": 14,
   "id": "04a960e4-374e-4bca-96b1-21070a2bd8f4",
   "metadata": {},
   "outputs": [
    {
     "name": "stdout",
     "output_type": "stream",
     "text": [
      "Test Case 1: [3, 1, 4, 1, 5, 9]\n",
      "Step 1: [1, 3, 4, 1, 5, 9]\n",
      "Step 2: [1, 1, 4, 3, 5, 9]\n",
      "Step 3: [1, 1, 3, 4, 5, 9]\n",
      "Step 4: [1, 1, 3, 4, 5, 9]\n",
      "Step 5: [1, 1, 3, 4, 5, 9]\n",
      "Result: [1, 1, 3, 4, 5, 9]\n",
      "\n",
      "Test Case 2: [2, 7, 1, 8, 2, 8]\n",
      "Step 1: [1, 7, 2, 8, 2, 8]\n",
      "Step 2: [1, 2, 7, 8, 2, 8]\n",
      "Step 3: [1, 2, 2, 8, 7, 8]\n",
      "Step 4: [1, 2, 2, 7, 8, 8]\n",
      "Step 5: [1, 2, 2, 7, 8, 8]\n",
      "Result: [1, 2, 2, 7, 8, 8]\n",
      "\n",
      "Test Case 3: [5, 5, 5, 5]\n",
      "Step 1: [5, 5, 5, 5]\n",
      "Step 2: [5, 5, 5, 5]\n",
      "Step 3: [5, 5, 5, 5]\n",
      "Result: [5, 5, 5, 5]\n",
      "\n",
      "Test Case 4: [3, 3, 2, 1, 1, 4]\n",
      "Step 1: [1, 3, 2, 3, 1, 4]\n",
      "Step 2: [1, 1, 2, 3, 3, 4]\n",
      "Step 3: [1, 1, 2, 3, 3, 4]\n",
      "Step 4: [1, 1, 2, 3, 3, 4]\n",
      "Step 5: [1, 1, 2, 3, 3, 4]\n",
      "Result: [1, 1, 2, 3, 3, 4]\n",
      "\n",
      "모든 테스트 케이스를 성공적으로 통과했습니다.\n"
     ]
    }
   ],
   "source": [
    "def printStep(A, step):\n",
    "    print(f\"Step {step}: {A}\")\n",
    "\n",
    "def selection_sort(A):\n",
    "    n = len(A)\n",
    "    for i in range(n - 1):\n",
    "        least = i\n",
    "        for j in range(i + 1, n):\n",
    "            if A[j] < A[least]:\n",
    "                least = j\n",
    "        # Swap elements\n",
    "        A[i], A[least] = A[least], A[i]\n",
    "        printStep(A, i + 1)\n",
    "\n",
    "# 테스트 함수\n",
    "def test_selection_sort():\n",
    "    # 몇 가지 테스트 케이스 정의\n",
    "    test_cases = [\n",
    "        ([3, 1, 4, 1, 5, 9], [1, 1, 3, 4, 5, 9]),\n",
    "        ([2, 7, 1, 8, 2, 8], [1, 2, 2, 7, 8, 8]),\n",
    "        ([5, 5, 5, 5], [5, 5, 5, 5]),\n",
    "        ([3, 3, 2, 1, 1, 4], [1, 1, 2, 3, 3, 4])\n",
    "    ]\n",
    "    \n",
    "    for i, (input_arr, expected_arr) in enumerate(test_cases):\n",
    "        # 복사한 배열을 정렬\n",
    "        arr = input_arr.copy()\n",
    "        print(f\"Test Case {i + 1}: {arr}\")\n",
    "        selection_sort(arr)\n",
    "        # 정렬된 결과를 확인\n",
    "        assert arr == expected_arr, f\"Test Case {i + 1} failed: {arr} != {expected_arr}\"\n",
    "        print(f\"Result: {arr}\\n\")\n",
    "        \n",
    "    print(\"모든 테스트 케이스를 성공적으로 통과했습니다.\")\n",
    "\n",
    "# 테스트 함수 실행\n",
    "test_selection_sort()"
   ]
  },
  {
   "cell_type": "markdown",
   "id": "f1e73c1d-474c-430b-aca4-4e7067e69f12",
   "metadata": {},
   "source": []
  }
 ],
 "metadata": {
  "kernelspec": {
   "display_name": "Python 3 (ipykernel)",
   "language": "python",
   "name": "python3"
  },
  "language_info": {
   "codemirror_mode": {
    "name": "ipython",
    "version": 3
   },
   "file_extension": ".py",
   "mimetype": "text/x-python",
   "name": "python",
   "nbconvert_exporter": "python",
   "pygments_lexer": "ipython3",
   "version": "3.11.7"
  }
 },
 "nbformat": 4,
 "nbformat_minor": 5
}
