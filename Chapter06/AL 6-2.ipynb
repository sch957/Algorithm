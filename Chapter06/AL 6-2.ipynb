{
 "cells": [
  {
   "cell_type": "markdown",
   "id": "d27807e2-1ac3-4c21-9fd9-343eb754f8f8",
   "metadata": {},
   "source": [
    "# AL 6-2"
   ]
  },
  {
   "cell_type": "markdown",
   "id": "ac23c58b-68d6-41df-9917-5b5b13e08e39",
   "metadata": {},
   "source": [
    "### 1) 문제 정의\n",
    "\n",
    "카운팅정렬 알고리즘을 이용하여 정수 리스트 정렬하기"
   ]
  },
  {
   "cell_type": "markdown",
   "id": "8eb2fda2-6dd7-48b1-a2f1-2e209cf70d80",
   "metadata": {},
   "source": [
    "### 2) 알고리즘 설명\n",
    "\n",
    "입력 리스트의 각 항목의 빈도를 세어, 정렬된 결과를 얻는 알고리즘이며, 보통은 입력 범위의 크기에 비례하는 배열을 사용하여 항목의 빈도를 기록하고, 이를 누적하여 정렬된 배열을 만드는 카운팅 정렬 알고리즘을 사용합니다."
   ]
  },
  {
   "attachments": {},
   "cell_type": "markdown",
   "id": "018e5ca5-ddd1-4660-8cb2-de5b110b323a",
   "metadata": {},
   "source": [
    "### 3) 손으로 푼 예제\n",
    "\n"
   ]
  },
  {
   "cell_type": "markdown",
   "id": "247b5243-ec22-41b9-a8dd-b36d20cec8e5",
   "metadata": {},
   "source": [
    "### 4) 코드 개요\n",
    "\n",
    "2행 : 정렬 결과 저장용 임시 리스트   \n",
    "3행 : 각 숫자의 빈도를 저장\n",
    "5행 : 각 숫자별 빈도를 계산  \n",
    "8행 : count[i]가 출력 배열에서  \n",
    "9행 : 해당 숫자의 위치가 되도록 수정  \n",
    "11행 : 모든 입력항목 A[i]에 대해  \n",
    "12행 : 해당위치 (count[[A[i]]-1])에 저장  \n",
    "13행 : 킷값 A[i]의 위치를 하나 줄임  \n",
    "15행 : 정렬 결과를 원래 배열에 복사  "
   ]
  },
  {
   "cell_type": "markdown",
   "id": "e226b82a-96a7-4d91-9e3c-9b84bc56db5e",
   "metadata": {},
   "source": [
    "### 5) 알고리즘 코드"
   ]
  },
  {
   "cell_type": "code",
   "execution_count": 4,
   "id": "93f03513-e62a-4d26-8569-72533cdf2d1d",
   "metadata": {},
   "outputs": [],
   "source": [
    "def counting_sort(A):\n",
    "    output = [0] * len(A)\n",
    "    count = [0] * MAX_VAL\n",
    "\n",
    "    for i in A:\n",
    "        count[i] += 1\n",
    "\n",
    "    for i in range(MAX_VAL):\n",
    "        count[i] += count[i-1]\n",
    "\n",
    "    for i in range(len(A)):\n",
    "        output[count[A[i]]-1] =A[i]\n",
    "        count[A[i]] -= 1\n",
    "\n",
    "    for i in range(len(A)):\n",
    "        A[i] = output[i]"
   ]
  },
  {
   "attachments": {
    "e8310104-9632-4593-8d80-d3fa8716c426.png": {
     "image/png": "[encoded data removed]"
    }
   },
   "cell_type": "markdown",
   "id": "ead6e4ce-dee7-4844-8eab-75a65ec06e23",
   "metadata": {},
   "source": [
    "### 6) 수행결과\n",
    "\n",
    "![image.png](attachment:e8310104-9632-4593-8d80-d3fa8716c426.png)"
   ]
  },
  {
   "cell_type": "markdown",
   "id": "c5d6114b-33d6-46fd-bc01-a3523725f2b0",
   "metadata": {},
   "source": [
    "### 7) 테스트 코드"
   ]
  },
  {
   "cell_type": "code",
   "execution_count": 9,
   "id": "a196f588-7d14-4cfd-93a5-77bd42152cf8",
   "metadata": {},
   "outputs": [
    {
     "name": "stdout",
     "output_type": "stream",
     "text": [
      "Original :  [1, 4, 1, 2, 7, 5, 2]\n",
      "Counting :  [1, 1, 2, 2, 4, 5, 7]\n"
     ]
    }
   ],
   "source": [
    "MAX_VAL = 10\n",
    "data = [1,4,1,2,7,5,2]\n",
    "print(\"Original : \", data)\n",
    "counting_sort(data)\n",
    "print(\"Counting : \", data)"
   ]
  },
  {
   "cell_type": "markdown",
   "id": "717ecb57-6bce-4434-8e82-308bc7c30d09",
   "metadata": {},
   "source": [
    "### 8) 복잡도 분석\n",
    "\n",
    "시간 복잡도 : O(n)  \n",
    "공간 복잡도 : O(k+n)"
   ]
  }
 ],
 "metadata": {
  "kernelspec": {
   "display_name": "Python 3 (ipykernel)",
   "language": "python",
   "name": "python3"
  },
  "language_info": {
   "codemirror_mode": {
    "name": "ipython",
    "version": 3
   },
   "file_extension": ".py",
   "mimetype": "text/x-python",
   "name": "python",
   "nbconvert_exporter": "python",
   "pygments_lexer": "ipython3",
   "version": "3.11.7"
  }
 },
 "nbformat": 4,
 "nbformat_minor": 5
}
