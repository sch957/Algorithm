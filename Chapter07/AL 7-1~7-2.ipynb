{
 "cells": [
  {
   "cell_type": "markdown",
   "id": "d27807e2-1ac3-4c21-9fd9-343eb754f8f8",
   "metadata": {},
   "source": [
    "# AL 7-1~7-2"
   ]
  },
  {
   "cell_type": "markdown",
   "id": "ac23c58b-68d6-41df-9917-5b5b13e08e39",
   "metadata": {},
   "source": [
    "### 1) 문제 정의\n",
    "\n",
    "\n",
    "7-1 : 메모이제이션을 이용한 피보나치수열  \n",
    "7-2 : 테이블화를 이용한 피보나치수열"
   ]
  },
  {
   "cell_type": "markdown",
   "id": "8eb2fda2-6dd7-48b1-a2f1-2e209cf70d80",
   "metadata": {},
   "source": [
    "### 2) 알고리즘 설명\n",
    "\n",
    "7-1 : 이전에 계산한 값을 저장해두고, 동일한 입력이 들어왔을 때 다시 계산하지 않고 저장된 값을 활용하여 실행 속도를 향상시키는 기법인 메모이제이션 알고리즘을 이용합니다.  \n",
    "\n",
    "7-2 :  작은 부분 문제의 해결 결과를 테이블에 저장하여 중복 계산을 피하는 다이내믹 프로그래밍 기법인 테이블화 알고리즘을 이용합니다.  "
   ]
  },
  {
   "attachments": {},
   "cell_type": "markdown",
   "id": "018e5ca5-ddd1-4660-8cb2-de5b110b323a",
   "metadata": {},
   "source": [
    "### 3) 손으로 푼 예제\n",
    "\n"
   ]
  },
  {
   "cell_type": "markdown",
   "id": "247b5243-ec22-41b9-a8dd-b36d20cec8e5",
   "metadata": {},
   "source": [
    "### 4) 코드 개요\n",
    "\n",
    "7-1  \n",
    "2행 : 풀리지 않은 경우 -> 계산하고 저장   \n",
    "4행 : 기반 상황 : n<=1  \n",
    "5행 : 일반 상황 : otherwise    \n",
    "\n",
    "7-2  \n",
    "2행 : 테이블을 만들고  \n",
    "3행 : 기반 상황 처리   \n",
    "4행 : 기반 상황 처리  \n",
    "5행 : 상향식으로 : 2,3,...n    \n",
    "6행 : 부분 문제들을 해결하고 저장함    \n",
    "7행 : 결과 반환    "
   ]
  },
  {
   "cell_type": "markdown",
   "id": "e226b82a-96a7-4d91-9e3c-9b84bc56db5e",
   "metadata": {},
   "source": [
    "### 5) 알고리즘 코드"
   ]
  },
  {
   "cell_type": "code",
   "execution_count": 1,
   "id": "93f03513-e62a-4d26-8569-72533cdf2d1d",
   "metadata": {},
   "outputs": [],
   "source": [
    "## 7-1\n",
    "def fib_dp_mem(n):\n",
    "    if(mem[n] == None) :    #풀리지 않은 경우 -> 계산하고 저장\n",
    "        if n < 2:\n",
    "            mem[n] = n      #기반 상황 : n<=1\n",
    "        else :              #일반 상황 : otherwise\n",
    "            mem[n] = fib_dp_mem(n-1) + fib_dp_mem(n-2)\n",
    "    return mem[n]\n",
    "\n",
    "## 7-2\n",
    "def fib_dp_tab(n) :\n",
    "    f = [None] * (n+1)          #테이블을 만들고\n",
    "    f[0] = 0                    #기반 상황 처리\n",
    "    f[1] = 1                    #기반 상황 처리\n",
    "    for i in range(2,n+1):      #상향식으로 : 2,3,...n \n",
    "        f[i] = f[i-1] + f[i-2]  #부분 문제들을 해결하고 저장함\n",
    "    return f[n]                 #결과 반환"
   ]
  },
  {
   "attachments": {
    "3f2829a0-5378-445c-861d-133629c91ddf.png": {
     "image/png": "[encoded data removed]"
    }
   },
   "cell_type": "markdown",
   "id": "ead6e4ce-dee7-4844-8eab-75a65ec06e23",
   "metadata": {},
   "source": [
    "### 6) 수행결과\n",
    "\n",
    "![image.png](attachment:3f2829a0-5378-445c-861d-133629c91ddf.png)"
   ]
  },
  {
   "cell_type": "markdown",
   "id": "c5d6114b-33d6-46fd-bc01-a3523725f2b0",
   "metadata": {},
   "source": [
    "### 7) 테스트 코드"
   ]
  },
  {
   "cell_type": "code",
   "execution_count": 2,
   "id": "a196f588-7d14-4cfd-93a5-77bd42152cf8",
   "metadata": {},
   "outputs": [
    {
     "name": "stdout",
     "output_type": "stream",
     "text": [
      "동적계획( 테이블화 ) : Fibonacci(8) =  21\n",
      "동적계획( 메모이제이션 ) : Fibonacci(8) =  21\n"
     ]
    }
   ],
   "source": [
    "n=8\n",
    "print('동적계획( 테이블화 ) : Fibonacci(%d) = '%n, fib_dp_tab(n))\n",
    "mem = [None] * (n+1)\n",
    "print('동적계획( 메모이제이션 ) : Fibonacci(%d) = '%n, fib_dp_tab(n))"
   ]
  },
  {
   "cell_type": "markdown",
   "id": "717ecb57-6bce-4434-8e82-308bc7c30d09",
   "metadata": {},
   "source": [
    "### 8) 복잡도 분석\n",
    "\n",
    "시간 복잡도 : O(n)  "
   ]
  }
 ],
 "metadata": {
  "kernelspec": {
   "display_name": "Python 3 (ipykernel)",
   "language": "python",
   "name": "python3"
  },
  "language_info": {
   "codemirror_mode": {
    "name": "ipython",
    "version": 3
   },
   "file_extension": ".py",
   "mimetype": "text/x-python",
   "name": "python",
   "nbconvert_exporter": "python",
   "pygments_lexer": "ipython3",
   "version": "3.11.7"
  }
 },
 "nbformat": 4,
 "nbformat_minor": 5
}
